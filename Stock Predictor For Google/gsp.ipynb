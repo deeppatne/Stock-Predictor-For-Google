{
  "nbformat": 4,
  "nbformat_minor": 0,
  "metadata": {
    "colab": {
      "name": "gsp.ipynb",
      "provenance": [],
      "collapsed_sections": []
    },
    "kernelspec": {
      "name": "python3",
      "display_name": "Python 3"
    }
  },
  "cells": [
    {
      "cell_type": "code",
      "metadata": {
        "id": "trIFSkV3BMZx",
        "colab_type": "code",
        "colab": {}
      },
      "source": [
        "# Importing required libraries\n",
        "import pandas as pd\n",
        "import numpy as np\n",
        "from sklearn.svm import SVR\n",
        "from sklearn.linear_model import LinearRegression\n",
        "import matplotlib.pyplot as plt"
      ],
      "execution_count": 0,
      "outputs": []
    },
    {
      "cell_type": "code",
      "metadata": {
        "id": "Um-YJAttBT_u",
        "colab_type": "code",
        "colab": {
          "resources": {
            "http://localhost:8080/nbextensions/google.colab/files.js": {
              "data": "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",
              "ok": true,
              "headers": [
                [
                  "content-type",
                  "application/javascript"
                ]
              ],
              "status": 200,
              "status_text": ""
            }
          },
          "base_uri": "https://localhost:8080/",
          "height": 323
        },
        "outputId": "19fdaec4-5077-499b-9af7-5907bc242488"
      },
      "source": [
        "# Loading data\n",
        "from google.colab import files # Use to load data on Google Colab\n",
        "uploaded = files.upload() # Use to load data on Google Colab\n",
        "df = pd.read_csv('GOOG_30_days.csv')\n",
        "df.head(7)"
      ],
      "execution_count": 64,
      "outputs": [
        {
          "output_type": "display_data",
          "data": {
            "text/html": [
              "\n",
              "     <input type=\"file\" id=\"files-e4a45b80-03a8-4c3c-8c6c-77fe49ef6915\" name=\"files[]\" multiple disabled />\n",
              "     <output id=\"result-e4a45b80-03a8-4c3c-8c6c-77fe49ef6915\">\n",
              "      Upload widget is only available when the cell has been executed in the\n",
              "      current browser session. Please rerun this cell to enable.\n",
              "      </output>\n",
              "      <script src=\"/nbextensions/google.colab/files.js\"></script> "
            ],
            "text/plain": [
              "<IPython.core.display.HTML object>"
            ]
          },
          "metadata": {
            "tags": []
          }
        },
        {
          "output_type": "stream",
          "text": [
            "Saving GOOG_30_days.csv to GOOG_30_days (1).csv\n"
          ],
          "name": "stdout"
        },
        {
          "output_type": "execute_result",
          "data": {
            "text/html": [
              "<div>\n",
              "<style scoped>\n",
              "    .dataframe tbody tr th:only-of-type {\n",
              "        vertical-align: middle;\n",
              "    }\n",
              "\n",
              "    .dataframe tbody tr th {\n",
              "        vertical-align: top;\n",
              "    }\n",
              "\n",
              "    .dataframe thead th {\n",
              "        text-align: right;\n",
              "    }\n",
              "</style>\n",
              "<table border=\"1\" class=\"dataframe\">\n",
              "  <thead>\n",
              "    <tr style=\"text-align: right;\">\n",
              "      <th></th>\n",
              "      <th>Date</th>\n",
              "      <th>Open</th>\n",
              "      <th>High</th>\n",
              "      <th>Low</th>\n",
              "      <th>Close</th>\n",
              "      <th>Adj Close</th>\n",
              "      <th>Volume</th>\n",
              "    </tr>\n",
              "  </thead>\n",
              "  <tbody>\n",
              "    <tr>\n",
              "      <th>0</th>\n",
              "      <td>2019-06-03</td>\n",
              "      <td>1065.500000</td>\n",
              "      <td>1065.500000</td>\n",
              "      <td>1025.000000</td>\n",
              "      <td>1036.229980</td>\n",
              "      <td>1036.229980</td>\n",
              "      <td>5130600</td>\n",
              "    </tr>\n",
              "    <tr>\n",
              "      <th>1</th>\n",
              "      <td>2019-06-04</td>\n",
              "      <td>1042.900024</td>\n",
              "      <td>1056.050049</td>\n",
              "      <td>1033.689941</td>\n",
              "      <td>1053.050049</td>\n",
              "      <td>1053.050049</td>\n",
              "      <td>2833500</td>\n",
              "    </tr>\n",
              "    <tr>\n",
              "      <th>2</th>\n",
              "      <td>2019-06-05</td>\n",
              "      <td>1051.540039</td>\n",
              "      <td>1053.550049</td>\n",
              "      <td>1030.489990</td>\n",
              "      <td>1042.219971</td>\n",
              "      <td>1042.219971</td>\n",
              "      <td>2168400</td>\n",
              "    </tr>\n",
              "    <tr>\n",
              "      <th>3</th>\n",
              "      <td>2019-06-06</td>\n",
              "      <td>1044.989990</td>\n",
              "      <td>1047.489990</td>\n",
              "      <td>1033.699951</td>\n",
              "      <td>1044.339966</td>\n",
              "      <td>1044.339966</td>\n",
              "      <td>1703200</td>\n",
              "    </tr>\n",
              "    <tr>\n",
              "      <th>4</th>\n",
              "      <td>2019-06-07</td>\n",
              "      <td>1050.630005</td>\n",
              "      <td>1070.920044</td>\n",
              "      <td>1048.400024</td>\n",
              "      <td>1066.040039</td>\n",
              "      <td>1066.040039</td>\n",
              "      <td>1802400</td>\n",
              "    </tr>\n",
              "    <tr>\n",
              "      <th>5</th>\n",
              "      <td>2019-06-10</td>\n",
              "      <td>1072.979980</td>\n",
              "      <td>1092.660034</td>\n",
              "      <td>1072.322021</td>\n",
              "      <td>1080.380005</td>\n",
              "      <td>1080.380005</td>\n",
              "      <td>1464200</td>\n",
              "    </tr>\n",
              "    <tr>\n",
              "      <th>6</th>\n",
              "      <td>2019-06-11</td>\n",
              "      <td>1093.979980</td>\n",
              "      <td>1101.989990</td>\n",
              "      <td>1077.603027</td>\n",
              "      <td>1078.719971</td>\n",
              "      <td>1078.719971</td>\n",
              "      <td>1436700</td>\n",
              "    </tr>\n",
              "  </tbody>\n",
              "</table>\n",
              "</div>"
            ],
            "text/plain": [
              "         Date         Open         High  ...        Close    Adj Close   Volume\n",
              "0  2019-06-03  1065.500000  1065.500000  ...  1036.229980  1036.229980  5130600\n",
              "1  2019-06-04  1042.900024  1056.050049  ...  1053.050049  1053.050049  2833500\n",
              "2  2019-06-05  1051.540039  1053.550049  ...  1042.219971  1042.219971  2168400\n",
              "3  2019-06-06  1044.989990  1047.489990  ...  1044.339966  1044.339966  1703200\n",
              "4  2019-06-07  1050.630005  1070.920044  ...  1066.040039  1066.040039  1802400\n",
              "5  2019-06-10  1072.979980  1092.660034  ...  1080.380005  1080.380005  1464200\n",
              "6  2019-06-11  1093.979980  1101.989990  ...  1078.719971  1078.719971  1436700\n",
              "\n",
              "[7 rows x 7 columns]"
            ]
          },
          "metadata": {
            "tags": []
          },
          "execution_count": 64
        }
      ]
    },
    {
      "cell_type": "code",
      "metadata": {
        "id": "w8hwyPQkByFk",
        "colab_type": "code",
        "colab": {}
      },
      "source": [
        "#Creating lists for X and Y axis\n",
        "dates = []\n",
        "prices = []"
      ],
      "execution_count": 0,
      "outputs": []
    },
    {
      "cell_type": "code",
      "metadata": {
        "id": "NpFV97bsB15B",
        "colab_type": "code",
        "colab": {
          "base_uri": "https://localhost:8080/",
          "height": 34
        },
        "outputId": "7cfdcad5-862e-470d-89ab-ff9eee02a780"
      },
      "source": [
        "# Displaying the  number of rows and columns\n",
        "df.shape"
      ],
      "execution_count": 66,
      "outputs": [
        {
          "output_type": "execute_result",
          "data": {
            "text/plain": [
              "(20, 7)"
            ]
          },
          "metadata": {
            "tags": []
          },
          "execution_count": 66
        }
      ]
    },
    {
      "cell_type": "code",
      "metadata": {
        "id": "p2Vmdw0aB6Fi",
        "colab_type": "code",
        "colab": {
          "base_uri": "https://localhost:8080/",
          "height": 80
        },
        "outputId": "567781b7-d018-4301-8c08-3d9269b75f7c"
      },
      "source": [
        "# Printing the last row\n",
        "df.tail(1)"
      ],
      "execution_count": 67,
      "outputs": [
        {
          "output_type": "execute_result",
          "data": {
            "text/html": [
              "<div>\n",
              "<style scoped>\n",
              "    .dataframe tbody tr th:only-of-type {\n",
              "        vertical-align: middle;\n",
              "    }\n",
              "\n",
              "    .dataframe tbody tr th {\n",
              "        vertical-align: top;\n",
              "    }\n",
              "\n",
              "    .dataframe thead th {\n",
              "        text-align: right;\n",
              "    }\n",
              "</style>\n",
              "<table border=\"1\" class=\"dataframe\">\n",
              "  <thead>\n",
              "    <tr style=\"text-align: right;\">\n",
              "      <th></th>\n",
              "      <th>Date</th>\n",
              "      <th>Open</th>\n",
              "      <th>High</th>\n",
              "      <th>Low</th>\n",
              "      <th>Close</th>\n",
              "      <th>Adj Close</th>\n",
              "      <th>Volume</th>\n",
              "    </tr>\n",
              "  </thead>\n",
              "  <tbody>\n",
              "    <tr>\n",
              "      <th>19</th>\n",
              "      <td>2019-06-28</td>\n",
              "      <td>1076.390015</td>\n",
              "      <td>1081.0</td>\n",
              "      <td>1073.369995</td>\n",
              "      <td>1080.910034</td>\n",
              "      <td>1080.910034</td>\n",
              "      <td>1693200</td>\n",
              "    </tr>\n",
              "  </tbody>\n",
              "</table>\n",
              "</div>"
            ],
            "text/plain": [
              "          Date         Open    High  ...        Close    Adj Close   Volume\n",
              "19  2019-06-28  1076.390015  1081.0  ...  1080.910034  1080.910034  1693200\n",
              "\n",
              "[1 rows x 7 columns]"
            ]
          },
          "metadata": {
            "tags": []
          },
          "execution_count": 67
        }
      ]
    },
    {
      "cell_type": "code",
      "metadata": {
        "id": "g5meNcivB73Y",
        "colab_type": "code",
        "colab": {
          "base_uri": "https://localhost:8080/",
          "height": 638
        },
        "outputId": "2acb222b-38ba-48bf-9ec5-846727d91afe"
      },
      "source": [
        "# Storing data except the last  row cause we want to make a prediction on that data\n",
        "df = df.head(len(df)-1) \n",
        "df"
      ],
      "execution_count": 68,
      "outputs": [
        {
          "output_type": "execute_result",
          "data": {
            "text/html": [
              "<div>\n",
              "<style scoped>\n",
              "    .dataframe tbody tr th:only-of-type {\n",
              "        vertical-align: middle;\n",
              "    }\n",
              "\n",
              "    .dataframe tbody tr th {\n",
              "        vertical-align: top;\n",
              "    }\n",
              "\n",
              "    .dataframe thead th {\n",
              "        text-align: right;\n",
              "    }\n",
              "</style>\n",
              "<table border=\"1\" class=\"dataframe\">\n",
              "  <thead>\n",
              "    <tr style=\"text-align: right;\">\n",
              "      <th></th>\n",
              "      <th>Date</th>\n",
              "      <th>Open</th>\n",
              "      <th>High</th>\n",
              "      <th>Low</th>\n",
              "      <th>Close</th>\n",
              "      <th>Adj Close</th>\n",
              "      <th>Volume</th>\n",
              "    </tr>\n",
              "  </thead>\n",
              "  <tbody>\n",
              "    <tr>\n",
              "      <th>0</th>\n",
              "      <td>2019-06-03</td>\n",
              "      <td>1065.500000</td>\n",
              "      <td>1065.500000</td>\n",
              "      <td>1025.000000</td>\n",
              "      <td>1036.229980</td>\n",
              "      <td>1036.229980</td>\n",
              "      <td>5130600</td>\n",
              "    </tr>\n",
              "    <tr>\n",
              "      <th>1</th>\n",
              "      <td>2019-06-04</td>\n",
              "      <td>1042.900024</td>\n",
              "      <td>1056.050049</td>\n",
              "      <td>1033.689941</td>\n",
              "      <td>1053.050049</td>\n",
              "      <td>1053.050049</td>\n",
              "      <td>2833500</td>\n",
              "    </tr>\n",
              "    <tr>\n",
              "      <th>2</th>\n",
              "      <td>2019-06-05</td>\n",
              "      <td>1051.540039</td>\n",
              "      <td>1053.550049</td>\n",
              "      <td>1030.489990</td>\n",
              "      <td>1042.219971</td>\n",
              "      <td>1042.219971</td>\n",
              "      <td>2168400</td>\n",
              "    </tr>\n",
              "    <tr>\n",
              "      <th>3</th>\n",
              "      <td>2019-06-06</td>\n",
              "      <td>1044.989990</td>\n",
              "      <td>1047.489990</td>\n",
              "      <td>1033.699951</td>\n",
              "      <td>1044.339966</td>\n",
              "      <td>1044.339966</td>\n",
              "      <td>1703200</td>\n",
              "    </tr>\n",
              "    <tr>\n",
              "      <th>4</th>\n",
              "      <td>2019-06-07</td>\n",
              "      <td>1050.630005</td>\n",
              "      <td>1070.920044</td>\n",
              "      <td>1048.400024</td>\n",
              "      <td>1066.040039</td>\n",
              "      <td>1066.040039</td>\n",
              "      <td>1802400</td>\n",
              "    </tr>\n",
              "    <tr>\n",
              "      <th>5</th>\n",
              "      <td>2019-06-10</td>\n",
              "      <td>1072.979980</td>\n",
              "      <td>1092.660034</td>\n",
              "      <td>1072.322021</td>\n",
              "      <td>1080.380005</td>\n",
              "      <td>1080.380005</td>\n",
              "      <td>1464200</td>\n",
              "    </tr>\n",
              "    <tr>\n",
              "      <th>6</th>\n",
              "      <td>2019-06-11</td>\n",
              "      <td>1093.979980</td>\n",
              "      <td>1101.989990</td>\n",
              "      <td>1077.603027</td>\n",
              "      <td>1078.719971</td>\n",
              "      <td>1078.719971</td>\n",
              "      <td>1436700</td>\n",
              "    </tr>\n",
              "    <tr>\n",
              "      <th>7</th>\n",
              "      <td>2019-06-12</td>\n",
              "      <td>1078.000000</td>\n",
              "      <td>1080.930054</td>\n",
              "      <td>1067.540039</td>\n",
              "      <td>1077.030029</td>\n",
              "      <td>1077.030029</td>\n",
              "      <td>1061000</td>\n",
              "    </tr>\n",
              "    <tr>\n",
              "      <th>8</th>\n",
              "      <td>2019-06-13</td>\n",
              "      <td>1083.640015</td>\n",
              "      <td>1094.170044</td>\n",
              "      <td>1080.150024</td>\n",
              "      <td>1088.770020</td>\n",
              "      <td>1088.770020</td>\n",
              "      <td>1057700</td>\n",
              "    </tr>\n",
              "    <tr>\n",
              "      <th>9</th>\n",
              "      <td>2019-06-14</td>\n",
              "      <td>1086.420044</td>\n",
              "      <td>1092.689941</td>\n",
              "      <td>1080.171997</td>\n",
              "      <td>1085.349976</td>\n",
              "      <td>1085.349976</td>\n",
              "      <td>1111500</td>\n",
              "    </tr>\n",
              "    <tr>\n",
              "      <th>10</th>\n",
              "      <td>2019-06-17</td>\n",
              "      <td>1086.280029</td>\n",
              "      <td>1099.180054</td>\n",
              "      <td>1086.280029</td>\n",
              "      <td>1092.500000</td>\n",
              "      <td>1092.500000</td>\n",
              "      <td>941600</td>\n",
              "    </tr>\n",
              "    <tr>\n",
              "      <th>11</th>\n",
              "      <td>2019-06-18</td>\n",
              "      <td>1109.689941</td>\n",
              "      <td>1116.390015</td>\n",
              "      <td>1098.989990</td>\n",
              "      <td>1103.599976</td>\n",
              "      <td>1103.599976</td>\n",
              "      <td>1386700</td>\n",
              "    </tr>\n",
              "    <tr>\n",
              "      <th>12</th>\n",
              "      <td>2019-06-19</td>\n",
              "      <td>1105.599976</td>\n",
              "      <td>1107.000000</td>\n",
              "      <td>1093.479980</td>\n",
              "      <td>1102.329956</td>\n",
              "      <td>1102.329956</td>\n",
              "      <td>1338800</td>\n",
              "    </tr>\n",
              "    <tr>\n",
              "      <th>13</th>\n",
              "      <td>2019-06-20</td>\n",
              "      <td>1119.989990</td>\n",
              "      <td>1120.119995</td>\n",
              "      <td>1104.739990</td>\n",
              "      <td>1111.420044</td>\n",
              "      <td>1111.420044</td>\n",
              "      <td>1262000</td>\n",
              "    </tr>\n",
              "    <tr>\n",
              "      <th>14</th>\n",
              "      <td>2019-06-21</td>\n",
              "      <td>1109.239990</td>\n",
              "      <td>1124.109985</td>\n",
              "      <td>1108.079956</td>\n",
              "      <td>1121.880005</td>\n",
              "      <td>1121.880005</td>\n",
              "      <td>1947600</td>\n",
              "    </tr>\n",
              "    <tr>\n",
              "      <th>15</th>\n",
              "      <td>2019-06-24</td>\n",
              "      <td>1119.609985</td>\n",
              "      <td>1122.000000</td>\n",
              "      <td>1111.010010</td>\n",
              "      <td>1115.520020</td>\n",
              "      <td>1115.520020</td>\n",
              "      <td>1395600</td>\n",
              "    </tr>\n",
              "    <tr>\n",
              "      <th>16</th>\n",
              "      <td>2019-06-25</td>\n",
              "      <td>1112.660034</td>\n",
              "      <td>1114.349976</td>\n",
              "      <td>1083.800049</td>\n",
              "      <td>1086.349976</td>\n",
              "      <td>1086.349976</td>\n",
              "      <td>1546900</td>\n",
              "    </tr>\n",
              "    <tr>\n",
              "      <th>17</th>\n",
              "      <td>2019-06-26</td>\n",
              "      <td>1086.500000</td>\n",
              "      <td>1092.969971</td>\n",
              "      <td>1072.239990</td>\n",
              "      <td>1079.800049</td>\n",
              "      <td>1079.800049</td>\n",
              "      <td>1810900</td>\n",
              "    </tr>\n",
              "    <tr>\n",
              "      <th>18</th>\n",
              "      <td>2019-06-27</td>\n",
              "      <td>1084.000000</td>\n",
              "      <td>1087.099976</td>\n",
              "      <td>1075.290039</td>\n",
              "      <td>1076.010010</td>\n",
              "      <td>1076.010010</td>\n",
              "      <td>1004300</td>\n",
              "    </tr>\n",
              "  </tbody>\n",
              "</table>\n",
              "</div>"
            ],
            "text/plain": [
              "          Date         Open         High  ...        Close    Adj Close   Volume\n",
              "0   2019-06-03  1065.500000  1065.500000  ...  1036.229980  1036.229980  5130600\n",
              "1   2019-06-04  1042.900024  1056.050049  ...  1053.050049  1053.050049  2833500\n",
              "2   2019-06-05  1051.540039  1053.550049  ...  1042.219971  1042.219971  2168400\n",
              "3   2019-06-06  1044.989990  1047.489990  ...  1044.339966  1044.339966  1703200\n",
              "4   2019-06-07  1050.630005  1070.920044  ...  1066.040039  1066.040039  1802400\n",
              "5   2019-06-10  1072.979980  1092.660034  ...  1080.380005  1080.380005  1464200\n",
              "6   2019-06-11  1093.979980  1101.989990  ...  1078.719971  1078.719971  1436700\n",
              "7   2019-06-12  1078.000000  1080.930054  ...  1077.030029  1077.030029  1061000\n",
              "8   2019-06-13  1083.640015  1094.170044  ...  1088.770020  1088.770020  1057700\n",
              "9   2019-06-14  1086.420044  1092.689941  ...  1085.349976  1085.349976  1111500\n",
              "10  2019-06-17  1086.280029  1099.180054  ...  1092.500000  1092.500000   941600\n",
              "11  2019-06-18  1109.689941  1116.390015  ...  1103.599976  1103.599976  1386700\n",
              "12  2019-06-19  1105.599976  1107.000000  ...  1102.329956  1102.329956  1338800\n",
              "13  2019-06-20  1119.989990  1120.119995  ...  1111.420044  1111.420044  1262000\n",
              "14  2019-06-21  1109.239990  1124.109985  ...  1121.880005  1121.880005  1947600\n",
              "15  2019-06-24  1119.609985  1122.000000  ...  1115.520020  1115.520020  1395600\n",
              "16  2019-06-25  1112.660034  1114.349976  ...  1086.349976  1086.349976  1546900\n",
              "17  2019-06-26  1086.500000  1092.969971  ...  1079.800049  1079.800049  1810900\n",
              "18  2019-06-27  1084.000000  1087.099976  ...  1076.010010  1076.010010  1004300\n",
              "\n",
              "[19 rows x 7 columns]"
            ]
          },
          "metadata": {
            "tags": []
          },
          "execution_count": 68
        }
      ]
    },
    {
      "cell_type": "code",
      "metadata": {
        "id": "ourc-R73CLDV",
        "colab_type": "code",
        "colab": {
          "base_uri": "https://localhost:8080/",
          "height": 34
        },
        "outputId": "59b8db1e-c436-4612-effd-ad90079cdcca"
      },
      "source": [
        "# New data stored in df\n",
        "df.shape"
      ],
      "execution_count": 69,
      "outputs": [
        {
          "output_type": "execute_result",
          "data": {
            "text/plain": [
              "(19, 7)"
            ]
          },
          "metadata": {
            "tags": []
          },
          "execution_count": 69
        }
      ]
    },
    {
      "cell_type": "code",
      "metadata": {
        "id": "1Djrd6vMCPoR",
        "colab_type": "code",
        "colab": {}
      },
      "source": [
        "# Getting rows from the Date Column\n",
        "df_dates = df.loc[:, 'Date']\n",
        "# Getting rows from the Open Column\n",
        "df_open = df.loc[:, 'Open']\n"
      ],
      "execution_count": 0,
      "outputs": []
    },
    {
      "cell_type": "code",
      "metadata": {
        "id": "QF36WiGFCTh_",
        "colab_type": "code",
        "colab": {}
      },
      "source": [
        "# Independent data - X axis - Dates\n",
        "for date in df_dates:\n",
        "  dates.append( [int(date.split('-')[2])])\n",
        "  \n",
        "# Dependent data - Y axis - Prices\n",
        "for open_price in df_open:\n",
        "  prices.append(float(open_price))"
      ],
      "execution_count": 0,
      "outputs": []
    },
    {
      "cell_type": "code",
      "metadata": {
        "id": "6_G4VMOtCZqM",
        "colab_type": "code",
        "colab": {
          "base_uri": "https://localhost:8080/",
          "height": 34
        },
        "outputId": "2f1ed7f3-14a2-43fd-8725-fbf0e3ccd837"
      },
      "source": [
        "# Printing data stored in dates\n",
        "print(dates)"
      ],
      "execution_count": 72,
      "outputs": [
        {
          "output_type": "stream",
          "text": [
            "[[3], [4], [5], [6], [7], [10], [11], [12], [13], [14], [17], [18], [19], [20], [21], [24], [25], [26], [27]]\n"
          ],
          "name": "stdout"
        }
      ]
    },
    {
      "cell_type": "code",
      "metadata": {
        "id": "6trOoT2gCa0a",
        "colab_type": "code",
        "colab": {}
      },
      "source": [
        "def predict_prices(dates, prices, x): #Function to make predictions - taking 3 parameters, x = date on which prediction has to be made\n",
        "  \n",
        "  #Creating 3 SVR's\n",
        "  svr_lin = SVR(kernel='linear', C= 1e3)\n",
        "  svr_poly= SVR(kernel='poly', C=1e3, degree=2)\n",
        "  svr_rbf = SVR(kernel='rbf', C=1e3, gamma=0.1)\n",
        "\n",
        "  #Training the models\n",
        "  svr_lin.fit(dates,prices)\n",
        "  svr_poly.fit(dates,prices)\n",
        "  svr_rbf.fit(dates,prices)\n",
        "\n",
        "  # Also creating Linear Regression model\n",
        "  lin_reg = LinearRegression()\n",
        "  # Training this model\n",
        "  lin_reg.fit(dates,prices)\n",
        "\n",
        "  \n",
        "  # Plotting models on a graph\n",
        "  plt.scatter(dates, prices, color='black', label='Data')\n",
        "  plt.plot(dates, svr_rbf.predict(dates), color='blue', label='SVR RBF')\n",
        "  plt.plot(dates, svr_poly.predict(dates), color='green', label='SVR Poly')\n",
        "  plt.plot(dates, svr_lin.predict(dates), color='red', label='SVR Linear')\n",
        "  plt.plot(dates, lin_reg.predict(dates), color='yellow', label='Linear Reg')\n",
        "\n",
        "  # Naming X axis\n",
        "  plt.xlabel('Days')\n",
        "\n",
        "  # Naming Y axis\n",
        "  plt.ylabel('Price')\n",
        "\n",
        "  # Graph Title\n",
        "  plt.title('Regression')\n",
        "  plt.legend()\n",
        "  plt.show()\n",
        "  \n",
        "  return svr_rbf.predict(x)[0], svr_lin.predict(x)[0],svr_poly.predict(x)[0],lin_reg.predict(x)[0]"
      ],
      "execution_count": 0,
      "outputs": []
    },
    {
      "cell_type": "code",
      "metadata": {
        "id": "dd-His27CkBp",
        "colab_type": "code",
        "colab": {
          "base_uri": "https://localhost:8080/",
          "height": 312
        },
        "outputId": "ff67ee4c-9498-4e8a-c1db-b0c9b52dbc49"
      },
      "source": [
        "#Predict the price of GOOG on day 28\n",
        "predicted_price = predict_prices(dates, prices, [[28]])\n",
        "print(predicted_price)\n"
      ],
      "execution_count": 74,
      "outputs": [
        {
          "output_type": "display_data",
          "data": {
            "image/png": "[encoded data removed]",
            "text/plain": [
              "<Figure size 432x288 with 1 Axes>"
            ]
          },
          "metadata": {
            "tags": []
          }
        },
        {
          "output_type": "stream",
          "text": [
            "(1091.7058004910944, 1133.3133133337788, 1139.5478482146918, 1117.7087934280248)\n"
          ],
          "name": "stdout"
        }
      ]
    }
  ]
}